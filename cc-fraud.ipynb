{
 "cells": [
  {
   "cell_type": "code",
   "execution_count": 1,
   "id": "2dea60aa",
   "metadata": {
    "_cell_guid": "b1076dfc-b9ad-4769-8c92-a6c4dae69d19",
    "_uuid": "8f2839f25d086af736a60e9eeb907d3b93b6e0e5",
    "execution": {
     "iopub.execute_input": "2022-12-23T14:52:53.372795Z",
     "iopub.status.busy": "2022-12-23T14:52:53.372442Z",
     "iopub.status.idle": "2022-12-23T14:52:53.389544Z",
     "shell.execute_reply": "2022-12-23T14:52:53.388535Z"
    },
    "papermill": {
     "duration": 0.060589,
     "end_time": "2022-12-23T14:52:53.392068",
     "exception": false,
     "start_time": "2022-12-23T14:52:53.331479",
     "status": "completed"
    },
    "tags": []
   },
   "outputs": [
    {
     "name": "stdout",
     "output_type": "stream",
     "text": [
      "/kaggle/input/creditcardfraud/creditcard.csv\n"
     ]
    }
   ],
   "source": [
    "# This Python 3 environment comes with many helpful analytics libraries installed\n",
    "# It is defined by the kaggle/python Docker image: https://github.com/kaggle/docker-python\n",
    "# For example, here's several helpful packages to load\n",
    "\n",
    "import numpy as np # linear algebra\n",
    "import pandas as pd # data processing, CSV file I/O (e.g. pd.read_csv)\n",
    "\n",
    "# Input data files are available in the read-only \"../input/\" directory\n",
    "# For example, running this (by clicking run or pressing Shift+Enter) will list all files under the input directory\n",
    "\n",
    "import os\n",
    "for dirname, _, filenames in os.walk('/kaggle/input'):\n",
    "    for filename in filenames:\n",
    "        print(os.path.join(dirname, filename))\n",
    "\n",
    "# You can write up to 20GB to the current directory (/kaggle/working/) that gets preserved as output when you create a version using \"Save & Run All\" \n",
    "# You can also write temporary files to /kaggle/temp/, but they won't be saved outside of the current session"
   ]
  },
  {
   "cell_type": "markdown",
   "id": "26c950b2",
   "metadata": {
    "papermill": {
     "duration": 0.03725,
     "end_time": "2022-12-23T14:52:53.465606",
     "exception": false,
     "start_time": "2022-12-23T14:52:53.428356",
     "status": "completed"
    },
    "tags": []
   },
   "source": [
    "Importing the Dependenciest"
   ]
  },
  {
   "cell_type": "code",
   "execution_count": 2,
   "id": "30540a74",
   "metadata": {
    "execution": {
     "iopub.execute_input": "2022-12-23T14:52:53.545365Z",
     "iopub.status.busy": "2022-12-23T14:52:53.544464Z",
     "iopub.status.idle": "2022-12-23T14:52:55.057563Z",
     "shell.execute_reply": "2022-12-23T14:52:55.056399Z"
    },
    "papermill": {
     "duration": 1.557316,
     "end_time": "2022-12-23T14:52:55.060259",
     "exception": false,
     "start_time": "2022-12-23T14:52:53.502943",
     "status": "completed"
    },
    "tags": []
   },
   "outputs": [],
   "source": [
    "import pandas as pd\n",
    "import numpy as np\n",
    "from sklearn.model_selection import train_test_split\n",
    "from sklearn.linear_model import LogisticRegression\n",
    "from sklearn.metrics import accuracy_score"
   ]
  },
  {
   "cell_type": "code",
   "execution_count": 3,
   "id": "9c7e7d36",
   "metadata": {
    "execution": {
     "iopub.execute_input": "2022-12-23T14:52:55.140525Z",
     "iopub.status.busy": "2022-12-23T14:52:55.140209Z",
     "iopub.status.idle": "2022-12-23T14:53:00.021644Z",
     "shell.execute_reply": "2022-12-23T14:53:00.020561Z"
    },
    "papermill": {
     "duration": 4.925121,
     "end_time": "2022-12-23T14:53:00.024162",
     "exception": false,
     "start_time": "2022-12-23T14:52:55.099041",
     "status": "completed"
    },
    "tags": []
   },
   "outputs": [
    {
     "data": {
      "text/html": [
       "<div>\n",
       "<style scoped>\n",
       "    .dataframe tbody tr th:only-of-type {\n",
       "        vertical-align: middle;\n",
       "    }\n",
       "\n",
       "    .dataframe tbody tr th {\n",
       "        vertical-align: top;\n",
       "    }\n",
       "\n",
       "    .dataframe thead th {\n",
       "        text-align: right;\n",
       "    }\n",
       "</style>\n",
       "<table border=\"1\" class=\"dataframe\">\n",
       "  <thead>\n",
       "    <tr style=\"text-align: right;\">\n",
       "      <th></th>\n",
       "      <th>Time</th>\n",
       "      <th>V1</th>\n",
       "      <th>V2</th>\n",
       "      <th>V3</th>\n",
       "      <th>V4</th>\n",
       "      <th>V5</th>\n",
       "      <th>V6</th>\n",
       "      <th>V7</th>\n",
       "      <th>V8</th>\n",
       "      <th>V9</th>\n",
       "      <th>...</th>\n",
       "      <th>V21</th>\n",
       "      <th>V22</th>\n",
       "      <th>V23</th>\n",
       "      <th>V24</th>\n",
       "      <th>V25</th>\n",
       "      <th>V26</th>\n",
       "      <th>V27</th>\n",
       "      <th>V28</th>\n",
       "      <th>Amount</th>\n",
       "      <th>Class</th>\n",
       "    </tr>\n",
       "  </thead>\n",
       "  <tbody>\n",
       "    <tr>\n",
       "      <th>0</th>\n",
       "      <td>0.0</td>\n",
       "      <td>-1.359807</td>\n",
       "      <td>-0.072781</td>\n",
       "      <td>2.536347</td>\n",
       "      <td>1.378155</td>\n",
       "      <td>-0.338321</td>\n",
       "      <td>0.462388</td>\n",
       "      <td>0.239599</td>\n",
       "      <td>0.098698</td>\n",
       "      <td>0.363787</td>\n",
       "      <td>...</td>\n",
       "      <td>-0.018307</td>\n",
       "      <td>0.277838</td>\n",
       "      <td>-0.110474</td>\n",
       "      <td>0.066928</td>\n",
       "      <td>0.128539</td>\n",
       "      <td>-0.189115</td>\n",
       "      <td>0.133558</td>\n",
       "      <td>-0.021053</td>\n",
       "      <td>149.62</td>\n",
       "      <td>0</td>\n",
       "    </tr>\n",
       "    <tr>\n",
       "      <th>1</th>\n",
       "      <td>0.0</td>\n",
       "      <td>1.191857</td>\n",
       "      <td>0.266151</td>\n",
       "      <td>0.166480</td>\n",
       "      <td>0.448154</td>\n",
       "      <td>0.060018</td>\n",
       "      <td>-0.082361</td>\n",
       "      <td>-0.078803</td>\n",
       "      <td>0.085102</td>\n",
       "      <td>-0.255425</td>\n",
       "      <td>...</td>\n",
       "      <td>-0.225775</td>\n",
       "      <td>-0.638672</td>\n",
       "      <td>0.101288</td>\n",
       "      <td>-0.339846</td>\n",
       "      <td>0.167170</td>\n",
       "      <td>0.125895</td>\n",
       "      <td>-0.008983</td>\n",
       "      <td>0.014724</td>\n",
       "      <td>2.69</td>\n",
       "      <td>0</td>\n",
       "    </tr>\n",
       "    <tr>\n",
       "      <th>2</th>\n",
       "      <td>1.0</td>\n",
       "      <td>-1.358354</td>\n",
       "      <td>-1.340163</td>\n",
       "      <td>1.773209</td>\n",
       "      <td>0.379780</td>\n",
       "      <td>-0.503198</td>\n",
       "      <td>1.800499</td>\n",
       "      <td>0.791461</td>\n",
       "      <td>0.247676</td>\n",
       "      <td>-1.514654</td>\n",
       "      <td>...</td>\n",
       "      <td>0.247998</td>\n",
       "      <td>0.771679</td>\n",
       "      <td>0.909412</td>\n",
       "      <td>-0.689281</td>\n",
       "      <td>-0.327642</td>\n",
       "      <td>-0.139097</td>\n",
       "      <td>-0.055353</td>\n",
       "      <td>-0.059752</td>\n",
       "      <td>378.66</td>\n",
       "      <td>0</td>\n",
       "    </tr>\n",
       "    <tr>\n",
       "      <th>3</th>\n",
       "      <td>1.0</td>\n",
       "      <td>-0.966272</td>\n",
       "      <td>-0.185226</td>\n",
       "      <td>1.792993</td>\n",
       "      <td>-0.863291</td>\n",
       "      <td>-0.010309</td>\n",
       "      <td>1.247203</td>\n",
       "      <td>0.237609</td>\n",
       "      <td>0.377436</td>\n",
       "      <td>-1.387024</td>\n",
       "      <td>...</td>\n",
       "      <td>-0.108300</td>\n",
       "      <td>0.005274</td>\n",
       "      <td>-0.190321</td>\n",
       "      <td>-1.175575</td>\n",
       "      <td>0.647376</td>\n",
       "      <td>-0.221929</td>\n",
       "      <td>0.062723</td>\n",
       "      <td>0.061458</td>\n",
       "      <td>123.50</td>\n",
       "      <td>0</td>\n",
       "    </tr>\n",
       "    <tr>\n",
       "      <th>4</th>\n",
       "      <td>2.0</td>\n",
       "      <td>-1.158233</td>\n",
       "      <td>0.877737</td>\n",
       "      <td>1.548718</td>\n",
       "      <td>0.403034</td>\n",
       "      <td>-0.407193</td>\n",
       "      <td>0.095921</td>\n",
       "      <td>0.592941</td>\n",
       "      <td>-0.270533</td>\n",
       "      <td>0.817739</td>\n",
       "      <td>...</td>\n",
       "      <td>-0.009431</td>\n",
       "      <td>0.798278</td>\n",
       "      <td>-0.137458</td>\n",
       "      <td>0.141267</td>\n",
       "      <td>-0.206010</td>\n",
       "      <td>0.502292</td>\n",
       "      <td>0.219422</td>\n",
       "      <td>0.215153</td>\n",
       "      <td>69.99</td>\n",
       "      <td>0</td>\n",
       "    </tr>\n",
       "  </tbody>\n",
       "</table>\n",
       "<p>5 rows × 31 columns</p>\n",
       "</div>"
      ],
      "text/plain": [
       "   Time        V1        V2        V3        V4        V5        V6        V7  \\\n",
       "0   0.0 -1.359807 -0.072781  2.536347  1.378155 -0.338321  0.462388  0.239599   \n",
       "1   0.0  1.191857  0.266151  0.166480  0.448154  0.060018 -0.082361 -0.078803   \n",
       "2   1.0 -1.358354 -1.340163  1.773209  0.379780 -0.503198  1.800499  0.791461   \n",
       "3   1.0 -0.966272 -0.185226  1.792993 -0.863291 -0.010309  1.247203  0.237609   \n",
       "4   2.0 -1.158233  0.877737  1.548718  0.403034 -0.407193  0.095921  0.592941   \n",
       "\n",
       "         V8        V9  ...       V21       V22       V23       V24       V25  \\\n",
       "0  0.098698  0.363787  ... -0.018307  0.277838 -0.110474  0.066928  0.128539   \n",
       "1  0.085102 -0.255425  ... -0.225775 -0.638672  0.101288 -0.339846  0.167170   \n",
       "2  0.247676 -1.514654  ...  0.247998  0.771679  0.909412 -0.689281 -0.327642   \n",
       "3  0.377436 -1.387024  ... -0.108300  0.005274 -0.190321 -1.175575  0.647376   \n",
       "4 -0.270533  0.817739  ... -0.009431  0.798278 -0.137458  0.141267 -0.206010   \n",
       "\n",
       "        V26       V27       V28  Amount  Class  \n",
       "0 -0.189115  0.133558 -0.021053  149.62      0  \n",
       "1  0.125895 -0.008983  0.014724    2.69      0  \n",
       "2 -0.139097 -0.055353 -0.059752  378.66      0  \n",
       "3 -0.221929  0.062723  0.061458  123.50      0  \n",
       "4  0.502292  0.219422  0.215153   69.99      0  \n",
       "\n",
       "[5 rows x 31 columns]"
      ]
     },
     "execution_count": 3,
     "metadata": {},
     "output_type": "execute_result"
    }
   ],
   "source": [
    "#loading dataset\n",
    "credit_card_data = pd.read_csv('/kaggle/input/creditcardfraud/creditcard.csv')\n",
    "credit_card_data.head()"
   ]
  },
  {
   "cell_type": "code",
   "execution_count": 4,
   "id": "1a621368",
   "metadata": {
    "execution": {
     "iopub.execute_input": "2022-12-23T14:53:00.100041Z",
     "iopub.status.busy": "2022-12-23T14:53:00.099011Z",
     "iopub.status.idle": "2022-12-23T14:53:00.124447Z",
     "shell.execute_reply": "2022-12-23T14:53:00.123727Z"
    },
    "papermill": {
     "duration": 0.065734,
     "end_time": "2022-12-23T14:53:00.126443",
     "exception": false,
     "start_time": "2022-12-23T14:53:00.060709",
     "status": "completed"
    },
    "tags": []
   },
   "outputs": [
    {
     "data": {
      "text/html": [
       "<div>\n",
       "<style scoped>\n",
       "    .dataframe tbody tr th:only-of-type {\n",
       "        vertical-align: middle;\n",
       "    }\n",
       "\n",
       "    .dataframe tbody tr th {\n",
       "        vertical-align: top;\n",
       "    }\n",
       "\n",
       "    .dataframe thead th {\n",
       "        text-align: right;\n",
       "    }\n",
       "</style>\n",
       "<table border=\"1\" class=\"dataframe\">\n",
       "  <thead>\n",
       "    <tr style=\"text-align: right;\">\n",
       "      <th></th>\n",
       "      <th>Time</th>\n",
       "      <th>V1</th>\n",
       "      <th>V2</th>\n",
       "      <th>V3</th>\n",
       "      <th>V4</th>\n",
       "      <th>V5</th>\n",
       "      <th>V6</th>\n",
       "      <th>V7</th>\n",
       "      <th>V8</th>\n",
       "      <th>V9</th>\n",
       "      <th>...</th>\n",
       "      <th>V21</th>\n",
       "      <th>V22</th>\n",
       "      <th>V23</th>\n",
       "      <th>V24</th>\n",
       "      <th>V25</th>\n",
       "      <th>V26</th>\n",
       "      <th>V27</th>\n",
       "      <th>V28</th>\n",
       "      <th>Amount</th>\n",
       "      <th>Class</th>\n",
       "    </tr>\n",
       "  </thead>\n",
       "  <tbody>\n",
       "    <tr>\n",
       "      <th>284802</th>\n",
       "      <td>172786.0</td>\n",
       "      <td>-11.881118</td>\n",
       "      <td>10.071785</td>\n",
       "      <td>-9.834783</td>\n",
       "      <td>-2.066656</td>\n",
       "      <td>-5.364473</td>\n",
       "      <td>-2.606837</td>\n",
       "      <td>-4.918215</td>\n",
       "      <td>7.305334</td>\n",
       "      <td>1.914428</td>\n",
       "      <td>...</td>\n",
       "      <td>0.213454</td>\n",
       "      <td>0.111864</td>\n",
       "      <td>1.014480</td>\n",
       "      <td>-0.509348</td>\n",
       "      <td>1.436807</td>\n",
       "      <td>0.250034</td>\n",
       "      <td>0.943651</td>\n",
       "      <td>0.823731</td>\n",
       "      <td>0.77</td>\n",
       "      <td>0</td>\n",
       "    </tr>\n",
       "    <tr>\n",
       "      <th>284803</th>\n",
       "      <td>172787.0</td>\n",
       "      <td>-0.732789</td>\n",
       "      <td>-0.055080</td>\n",
       "      <td>2.035030</td>\n",
       "      <td>-0.738589</td>\n",
       "      <td>0.868229</td>\n",
       "      <td>1.058415</td>\n",
       "      <td>0.024330</td>\n",
       "      <td>0.294869</td>\n",
       "      <td>0.584800</td>\n",
       "      <td>...</td>\n",
       "      <td>0.214205</td>\n",
       "      <td>0.924384</td>\n",
       "      <td>0.012463</td>\n",
       "      <td>-1.016226</td>\n",
       "      <td>-0.606624</td>\n",
       "      <td>-0.395255</td>\n",
       "      <td>0.068472</td>\n",
       "      <td>-0.053527</td>\n",
       "      <td>24.79</td>\n",
       "      <td>0</td>\n",
       "    </tr>\n",
       "    <tr>\n",
       "      <th>284804</th>\n",
       "      <td>172788.0</td>\n",
       "      <td>1.919565</td>\n",
       "      <td>-0.301254</td>\n",
       "      <td>-3.249640</td>\n",
       "      <td>-0.557828</td>\n",
       "      <td>2.630515</td>\n",
       "      <td>3.031260</td>\n",
       "      <td>-0.296827</td>\n",
       "      <td>0.708417</td>\n",
       "      <td>0.432454</td>\n",
       "      <td>...</td>\n",
       "      <td>0.232045</td>\n",
       "      <td>0.578229</td>\n",
       "      <td>-0.037501</td>\n",
       "      <td>0.640134</td>\n",
       "      <td>0.265745</td>\n",
       "      <td>-0.087371</td>\n",
       "      <td>0.004455</td>\n",
       "      <td>-0.026561</td>\n",
       "      <td>67.88</td>\n",
       "      <td>0</td>\n",
       "    </tr>\n",
       "    <tr>\n",
       "      <th>284805</th>\n",
       "      <td>172788.0</td>\n",
       "      <td>-0.240440</td>\n",
       "      <td>0.530483</td>\n",
       "      <td>0.702510</td>\n",
       "      <td>0.689799</td>\n",
       "      <td>-0.377961</td>\n",
       "      <td>0.623708</td>\n",
       "      <td>-0.686180</td>\n",
       "      <td>0.679145</td>\n",
       "      <td>0.392087</td>\n",
       "      <td>...</td>\n",
       "      <td>0.265245</td>\n",
       "      <td>0.800049</td>\n",
       "      <td>-0.163298</td>\n",
       "      <td>0.123205</td>\n",
       "      <td>-0.569159</td>\n",
       "      <td>0.546668</td>\n",
       "      <td>0.108821</td>\n",
       "      <td>0.104533</td>\n",
       "      <td>10.00</td>\n",
       "      <td>0</td>\n",
       "    </tr>\n",
       "    <tr>\n",
       "      <th>284806</th>\n",
       "      <td>172792.0</td>\n",
       "      <td>-0.533413</td>\n",
       "      <td>-0.189733</td>\n",
       "      <td>0.703337</td>\n",
       "      <td>-0.506271</td>\n",
       "      <td>-0.012546</td>\n",
       "      <td>-0.649617</td>\n",
       "      <td>1.577006</td>\n",
       "      <td>-0.414650</td>\n",
       "      <td>0.486180</td>\n",
       "      <td>...</td>\n",
       "      <td>0.261057</td>\n",
       "      <td>0.643078</td>\n",
       "      <td>0.376777</td>\n",
       "      <td>0.008797</td>\n",
       "      <td>-0.473649</td>\n",
       "      <td>-0.818267</td>\n",
       "      <td>-0.002415</td>\n",
       "      <td>0.013649</td>\n",
       "      <td>217.00</td>\n",
       "      <td>0</td>\n",
       "    </tr>\n",
       "  </tbody>\n",
       "</table>\n",
       "<p>5 rows × 31 columns</p>\n",
       "</div>"
      ],
      "text/plain": [
       "            Time         V1         V2        V3        V4        V5  \\\n",
       "284802  172786.0 -11.881118  10.071785 -9.834783 -2.066656 -5.364473   \n",
       "284803  172787.0  -0.732789  -0.055080  2.035030 -0.738589  0.868229   \n",
       "284804  172788.0   1.919565  -0.301254 -3.249640 -0.557828  2.630515   \n",
       "284805  172788.0  -0.240440   0.530483  0.702510  0.689799 -0.377961   \n",
       "284806  172792.0  -0.533413  -0.189733  0.703337 -0.506271 -0.012546   \n",
       "\n",
       "              V6        V7        V8        V9  ...       V21       V22  \\\n",
       "284802 -2.606837 -4.918215  7.305334  1.914428  ...  0.213454  0.111864   \n",
       "284803  1.058415  0.024330  0.294869  0.584800  ...  0.214205  0.924384   \n",
       "284804  3.031260 -0.296827  0.708417  0.432454  ...  0.232045  0.578229   \n",
       "284805  0.623708 -0.686180  0.679145  0.392087  ...  0.265245  0.800049   \n",
       "284806 -0.649617  1.577006 -0.414650  0.486180  ...  0.261057  0.643078   \n",
       "\n",
       "             V23       V24       V25       V26       V27       V28  Amount  \\\n",
       "284802  1.014480 -0.509348  1.436807  0.250034  0.943651  0.823731    0.77   \n",
       "284803  0.012463 -1.016226 -0.606624 -0.395255  0.068472 -0.053527   24.79   \n",
       "284804 -0.037501  0.640134  0.265745 -0.087371  0.004455 -0.026561   67.88   \n",
       "284805 -0.163298  0.123205 -0.569159  0.546668  0.108821  0.104533   10.00   \n",
       "284806  0.376777  0.008797 -0.473649 -0.818267 -0.002415  0.013649  217.00   \n",
       "\n",
       "        Class  \n",
       "284802      0  \n",
       "284803      0  \n",
       "284804      0  \n",
       "284805      0  \n",
       "284806      0  \n",
       "\n",
       "[5 rows x 31 columns]"
      ]
     },
     "execution_count": 4,
     "metadata": {},
     "output_type": "execute_result"
    }
   ],
   "source": [
    "credit_card_data.tail()"
   ]
  },
  {
   "cell_type": "code",
   "execution_count": 5,
   "id": "9f9ebb73",
   "metadata": {
    "execution": {
     "iopub.execute_input": "2022-12-23T14:53:00.203398Z",
     "iopub.status.busy": "2022-12-23T14:53:00.202615Z",
     "iopub.status.idle": "2022-12-23T14:53:00.248508Z",
     "shell.execute_reply": "2022-12-23T14:53:00.247456Z"
    },
    "papermill": {
     "duration": 0.087467,
     "end_time": "2022-12-23T14:53:00.251071",
     "exception": false,
     "start_time": "2022-12-23T14:53:00.163604",
     "status": "completed"
    },
    "tags": []
   },
   "outputs": [
    {
     "name": "stdout",
     "output_type": "stream",
     "text": [
      "<class 'pandas.core.frame.DataFrame'>\n",
      "RangeIndex: 284807 entries, 0 to 284806\n",
      "Data columns (total 31 columns):\n",
      " #   Column  Non-Null Count   Dtype  \n",
      "---  ------  --------------   -----  \n",
      " 0   Time    284807 non-null  float64\n",
      " 1   V1      284807 non-null  float64\n",
      " 2   V2      284807 non-null  float64\n",
      " 3   V3      284807 non-null  float64\n",
      " 4   V4      284807 non-null  float64\n",
      " 5   V5      284807 non-null  float64\n",
      " 6   V6      284807 non-null  float64\n",
      " 7   V7      284807 non-null  float64\n",
      " 8   V8      284807 non-null  float64\n",
      " 9   V9      284807 non-null  float64\n",
      " 10  V10     284807 non-null  float64\n",
      " 11  V11     284807 non-null  float64\n",
      " 12  V12     284807 non-null  float64\n",
      " 13  V13     284807 non-null  float64\n",
      " 14  V14     284807 non-null  float64\n",
      " 15  V15     284807 non-null  float64\n",
      " 16  V16     284807 non-null  float64\n",
      " 17  V17     284807 non-null  float64\n",
      " 18  V18     284807 non-null  float64\n",
      " 19  V19     284807 non-null  float64\n",
      " 20  V20     284807 non-null  float64\n",
      " 21  V21     284807 non-null  float64\n",
      " 22  V22     284807 non-null  float64\n",
      " 23  V23     284807 non-null  float64\n",
      " 24  V24     284807 non-null  float64\n",
      " 25  V25     284807 non-null  float64\n",
      " 26  V26     284807 non-null  float64\n",
      " 27  V27     284807 non-null  float64\n",
      " 28  V28     284807 non-null  float64\n",
      " 29  Amount  284807 non-null  float64\n",
      " 30  Class   284807 non-null  int64  \n",
      "dtypes: float64(30), int64(1)\n",
      "memory usage: 67.4 MB\n"
     ]
    }
   ],
   "source": [
    "credit_card_data.info()"
   ]
  },
  {
   "cell_type": "code",
   "execution_count": 6,
   "id": "42fda1d9",
   "metadata": {
    "execution": {
     "iopub.execute_input": "2022-12-23T14:53:00.330939Z",
     "iopub.status.busy": "2022-12-23T14:53:00.330637Z",
     "iopub.status.idle": "2022-12-23T14:53:00.356006Z",
     "shell.execute_reply": "2022-12-23T14:53:00.354977Z"
    },
    "papermill": {
     "duration": 0.067882,
     "end_time": "2022-12-23T14:53:00.358298",
     "exception": false,
     "start_time": "2022-12-23T14:53:00.290416",
     "status": "completed"
    },
    "tags": []
   },
   "outputs": [
    {
     "data": {
      "text/plain": [
       "Time      0\n",
       "V1        0\n",
       "V2        0\n",
       "V3        0\n",
       "V4        0\n",
       "V5        0\n",
       "V6        0\n",
       "V7        0\n",
       "V8        0\n",
       "V9        0\n",
       "V10       0\n",
       "V11       0\n",
       "V12       0\n",
       "V13       0\n",
       "V14       0\n",
       "V15       0\n",
       "V16       0\n",
       "V17       0\n",
       "V18       0\n",
       "V19       0\n",
       "V20       0\n",
       "V21       0\n",
       "V22       0\n",
       "V23       0\n",
       "V24       0\n",
       "V25       0\n",
       "V26       0\n",
       "V27       0\n",
       "V28       0\n",
       "Amount    0\n",
       "Class     0\n",
       "dtype: int64"
      ]
     },
     "execution_count": 6,
     "metadata": {},
     "output_type": "execute_result"
    }
   ],
   "source": [
    "#checking the number od missing values in each column\n",
    "credit_card_data.isnull().sum()"
   ]
  },
  {
   "cell_type": "markdown",
   "id": "2880f817",
   "metadata": {
    "papermill": {
     "duration": 0.037139,
     "end_time": "2022-12-23T14:53:00.435849",
     "exception": false,
     "start_time": "2022-12-23T14:53:00.398710",
     "status": "completed"
    },
    "tags": []
   },
   "source": [
    "Distributin of legit transaction and fraudulent transactions"
   ]
  },
  {
   "cell_type": "code",
   "execution_count": 7,
   "id": "553b4b06",
   "metadata": {
    "execution": {
     "iopub.execute_input": "2022-12-23T14:53:00.516924Z",
     "iopub.status.busy": "2022-12-23T14:53:00.516636Z",
     "iopub.status.idle": "2022-12-23T14:53:00.527331Z",
     "shell.execute_reply": "2022-12-23T14:53:00.526312Z"
    },
    "papermill": {
     "duration": 0.052025,
     "end_time": "2022-12-23T14:53:00.529479",
     "exception": false,
     "start_time": "2022-12-23T14:53:00.477454",
     "status": "completed"
    },
    "tags": []
   },
   "outputs": [
    {
     "data": {
      "text/plain": [
       "0    284315\n",
       "1       492\n",
       "Name: Class, dtype: int64"
      ]
     },
     "execution_count": 7,
     "metadata": {},
     "output_type": "execute_result"
    }
   ],
   "source": [
    "credit_card_data['Class'].value_counts()"
   ]
  },
  {
   "cell_type": "markdown",
   "id": "f785d392",
   "metadata": {
    "papermill": {
     "duration": 0.037806,
     "end_time": "2022-12-23T14:53:00.605472",
     "exception": false,
     "start_time": "2022-12-23T14:53:00.567666",
     "status": "completed"
    },
    "tags": []
   },
   "source": [
    "This dataset is highly unbalanced"
   ]
  },
  {
   "cell_type": "markdown",
   "id": "7621fc38",
   "metadata": {
    "papermill": {
     "duration": 0.037848,
     "end_time": "2022-12-23T14:53:00.681429",
     "exception": false,
     "start_time": "2022-12-23T14:53:00.643581",
     "status": "completed"
    },
    "tags": []
   },
   "source": [
    "0 --> normal transactions\n",
    "1 --> draundulent transations"
   ]
  },
  {
   "cell_type": "code",
   "execution_count": 8,
   "id": "d4b672ee",
   "metadata": {
    "execution": {
     "iopub.execute_input": "2022-12-23T14:53:00.759486Z",
     "iopub.status.busy": "2022-12-23T14:53:00.759201Z",
     "iopub.status.idle": "2022-12-23T14:53:00.824812Z",
     "shell.execute_reply": "2022-12-23T14:53:00.823945Z"
    },
    "papermill": {
     "duration": 0.107849,
     "end_time": "2022-12-23T14:53:00.827228",
     "exception": false,
     "start_time": "2022-12-23T14:53:00.719379",
     "status": "completed"
    },
    "tags": []
   },
   "outputs": [],
   "source": [
    "#separeting the data for analysis\n",
    "legit = credit_card_data[credit_card_data['Class']==0]\n",
    "fraud = credit_card_data[credit_card_data['Class']==1]"
   ]
  },
  {
   "cell_type": "code",
   "execution_count": 9,
   "id": "c10e034a",
   "metadata": {
    "execution": {
     "iopub.execute_input": "2022-12-23T14:53:00.907614Z",
     "iopub.status.busy": "2022-12-23T14:53:00.907316Z",
     "iopub.status.idle": "2022-12-23T14:53:00.913163Z",
     "shell.execute_reply": "2022-12-23T14:53:00.912172Z"
    },
    "papermill": {
     "duration": 0.048718,
     "end_time": "2022-12-23T14:53:00.915574",
     "exception": false,
     "start_time": "2022-12-23T14:53:00.866856",
     "status": "completed"
    },
    "tags": []
   },
   "outputs": [
    {
     "name": "stdout",
     "output_type": "stream",
     "text": [
      "(284315, 31)\n",
      "(492, 31)\n"
     ]
    }
   ],
   "source": [
    "print(legit.shape)\n",
    "print(fraud.shape)"
   ]
  },
  {
   "cell_type": "code",
   "execution_count": 10,
   "id": "e2d1088c",
   "metadata": {
    "execution": {
     "iopub.execute_input": "2022-12-23T14:53:00.994672Z",
     "iopub.status.busy": "2022-12-23T14:53:00.994388Z",
     "iopub.status.idle": "2022-12-23T14:53:01.019256Z",
     "shell.execute_reply": "2022-12-23T14:53:01.018283Z"
    },
    "papermill": {
     "duration": 0.067561,
     "end_time": "2022-12-23T14:53:01.021782",
     "exception": false,
     "start_time": "2022-12-23T14:53:00.954221",
     "status": "completed"
    },
    "tags": []
   },
   "outputs": [
    {
     "data": {
      "text/plain": [
       "count    284315.000000\n",
       "mean         88.291022\n",
       "std         250.105092\n",
       "min           0.000000\n",
       "25%           5.650000\n",
       "50%          22.000000\n",
       "75%          77.050000\n",
       "max       25691.160000\n",
       "Name: Amount, dtype: float64"
      ]
     },
     "execution_count": 10,
     "metadata": {},
     "output_type": "execute_result"
    }
   ],
   "source": [
    "#statistical mesure of data\n",
    "legit.Amount.describe()"
   ]
  },
  {
   "cell_type": "code",
   "execution_count": 11,
   "id": "04cbb214",
   "metadata": {
    "execution": {
     "iopub.execute_input": "2022-12-23T14:53:01.102626Z",
     "iopub.status.busy": "2022-12-23T14:53:01.101995Z",
     "iopub.status.idle": "2022-12-23T14:53:01.112276Z",
     "shell.execute_reply": "2022-12-23T14:53:01.111385Z"
    },
    "papermill": {
     "duration": 0.053276,
     "end_time": "2022-12-23T14:53:01.114524",
     "exception": false,
     "start_time": "2022-12-23T14:53:01.061248",
     "status": "completed"
    },
    "tags": []
   },
   "outputs": [
    {
     "data": {
      "text/plain": [
       "count     492.000000\n",
       "mean      122.211321\n",
       "std       256.683288\n",
       "min         0.000000\n",
       "25%         1.000000\n",
       "50%         9.250000\n",
       "75%       105.890000\n",
       "max      2125.870000\n",
       "Name: Amount, dtype: float64"
      ]
     },
     "execution_count": 11,
     "metadata": {},
     "output_type": "execute_result"
    }
   ],
   "source": [
    "fraud.Amount.describe()"
   ]
  },
  {
   "cell_type": "markdown",
   "id": "d596e3e1",
   "metadata": {
    "papermill": {
     "duration": 0.038427,
     "end_time": "2022-12-23T14:53:01.191912",
     "exception": false,
     "start_time": "2022-12-23T14:53:01.153485",
     "status": "completed"
    },
    "tags": []
   },
   "source": [
    "Compare the values for both transactions"
   ]
  },
  {
   "cell_type": "code",
   "execution_count": 12,
   "id": "d324a5b8",
   "metadata": {
    "execution": {
     "iopub.execute_input": "2022-12-23T14:53:01.273512Z",
     "iopub.status.busy": "2022-12-23T14:53:01.272924Z",
     "iopub.status.idle": "2022-12-23T14:53:01.410810Z",
     "shell.execute_reply": "2022-12-23T14:53:01.409623Z"
    },
    "papermill": {
     "duration": 0.18254,
     "end_time": "2022-12-23T14:53:01.413639",
     "exception": false,
     "start_time": "2022-12-23T14:53:01.231099",
     "status": "completed"
    },
    "tags": []
   },
   "outputs": [
    {
     "data": {
      "text/html": [
       "<div>\n",
       "<style scoped>\n",
       "    .dataframe tbody tr th:only-of-type {\n",
       "        vertical-align: middle;\n",
       "    }\n",
       "\n",
       "    .dataframe tbody tr th {\n",
       "        vertical-align: top;\n",
       "    }\n",
       "\n",
       "    .dataframe thead th {\n",
       "        text-align: right;\n",
       "    }\n",
       "</style>\n",
       "<table border=\"1\" class=\"dataframe\">\n",
       "  <thead>\n",
       "    <tr style=\"text-align: right;\">\n",
       "      <th></th>\n",
       "      <th>Time</th>\n",
       "      <th>V1</th>\n",
       "      <th>V2</th>\n",
       "      <th>V3</th>\n",
       "      <th>V4</th>\n",
       "      <th>V5</th>\n",
       "      <th>V6</th>\n",
       "      <th>V7</th>\n",
       "      <th>V8</th>\n",
       "      <th>V9</th>\n",
       "      <th>...</th>\n",
       "      <th>V20</th>\n",
       "      <th>V21</th>\n",
       "      <th>V22</th>\n",
       "      <th>V23</th>\n",
       "      <th>V24</th>\n",
       "      <th>V25</th>\n",
       "      <th>V26</th>\n",
       "      <th>V27</th>\n",
       "      <th>V28</th>\n",
       "      <th>Amount</th>\n",
       "    </tr>\n",
       "    <tr>\n",
       "      <th>Class</th>\n",
       "      <th></th>\n",
       "      <th></th>\n",
       "      <th></th>\n",
       "      <th></th>\n",
       "      <th></th>\n",
       "      <th></th>\n",
       "      <th></th>\n",
       "      <th></th>\n",
       "      <th></th>\n",
       "      <th></th>\n",
       "      <th></th>\n",
       "      <th></th>\n",
       "      <th></th>\n",
       "      <th></th>\n",
       "      <th></th>\n",
       "      <th></th>\n",
       "      <th></th>\n",
       "      <th></th>\n",
       "      <th></th>\n",
       "      <th></th>\n",
       "      <th></th>\n",
       "    </tr>\n",
       "  </thead>\n",
       "  <tbody>\n",
       "    <tr>\n",
       "      <th>0</th>\n",
       "      <td>94838.202258</td>\n",
       "      <td>0.008258</td>\n",
       "      <td>-0.006271</td>\n",
       "      <td>0.012171</td>\n",
       "      <td>-0.007860</td>\n",
       "      <td>0.005453</td>\n",
       "      <td>0.002419</td>\n",
       "      <td>0.009637</td>\n",
       "      <td>-0.000987</td>\n",
       "      <td>0.004467</td>\n",
       "      <td>...</td>\n",
       "      <td>-0.000644</td>\n",
       "      <td>-0.001235</td>\n",
       "      <td>-0.000024</td>\n",
       "      <td>0.000070</td>\n",
       "      <td>0.000182</td>\n",
       "      <td>-0.000072</td>\n",
       "      <td>-0.000089</td>\n",
       "      <td>-0.000295</td>\n",
       "      <td>-0.000131</td>\n",
       "      <td>88.291022</td>\n",
       "    </tr>\n",
       "    <tr>\n",
       "      <th>1</th>\n",
       "      <td>80746.806911</td>\n",
       "      <td>-4.771948</td>\n",
       "      <td>3.623778</td>\n",
       "      <td>-7.033281</td>\n",
       "      <td>4.542029</td>\n",
       "      <td>-3.151225</td>\n",
       "      <td>-1.397737</td>\n",
       "      <td>-5.568731</td>\n",
       "      <td>0.570636</td>\n",
       "      <td>-2.581123</td>\n",
       "      <td>...</td>\n",
       "      <td>0.372319</td>\n",
       "      <td>0.713588</td>\n",
       "      <td>0.014049</td>\n",
       "      <td>-0.040308</td>\n",
       "      <td>-0.105130</td>\n",
       "      <td>0.041449</td>\n",
       "      <td>0.051648</td>\n",
       "      <td>0.170575</td>\n",
       "      <td>0.075667</td>\n",
       "      <td>122.211321</td>\n",
       "    </tr>\n",
       "  </tbody>\n",
       "</table>\n",
       "<p>2 rows × 30 columns</p>\n",
       "</div>"
      ],
      "text/plain": [
       "               Time        V1        V2        V3        V4        V5  \\\n",
       "Class                                                                   \n",
       "0      94838.202258  0.008258 -0.006271  0.012171 -0.007860  0.005453   \n",
       "1      80746.806911 -4.771948  3.623778 -7.033281  4.542029 -3.151225   \n",
       "\n",
       "             V6        V7        V8        V9  ...       V20       V21  \\\n",
       "Class                                          ...                       \n",
       "0      0.002419  0.009637 -0.000987  0.004467  ... -0.000644 -0.001235   \n",
       "1     -1.397737 -5.568731  0.570636 -2.581123  ...  0.372319  0.713588   \n",
       "\n",
       "            V22       V23       V24       V25       V26       V27       V28  \\\n",
       "Class                                                                         \n",
       "0     -0.000024  0.000070  0.000182 -0.000072 -0.000089 -0.000295 -0.000131   \n",
       "1      0.014049 -0.040308 -0.105130  0.041449  0.051648  0.170575  0.075667   \n",
       "\n",
       "           Amount  \n",
       "Class              \n",
       "0       88.291022  \n",
       "1      122.211321  \n",
       "\n",
       "[2 rows x 30 columns]"
      ]
     },
     "execution_count": 12,
     "metadata": {},
     "output_type": "execute_result"
    }
   ],
   "source": [
    "credit_card_data.groupby('Class').mean()"
   ]
  },
  {
   "cell_type": "markdown",
   "id": "79a5c7fa",
   "metadata": {
    "papermill": {
     "duration": 0.04205,
     "end_time": "2022-12-23T14:53:01.497583",
     "exception": false,
     "start_time": "2022-12-23T14:53:01.455533",
     "status": "completed"
    },
    "tags": []
   },
   "source": [
    "**Under-Sampling**"
   ]
  },
  {
   "cell_type": "markdown",
   "id": "0cf13c81",
   "metadata": {
    "papermill": {
     "duration": 0.039041,
     "end_time": "2022-12-23T14:53:01.577118",
     "exception": false,
     "start_time": "2022-12-23T14:53:01.538077",
     "status": "completed"
    },
    "tags": []
   },
   "source": [
    "Build a sample dataset containing similar distributin of normal transactions and fraudulent transactions"
   ]
  },
  {
   "cell_type": "markdown",
   "id": "bcb12773",
   "metadata": {
    "papermill": {
     "duration": 0.03935,
     "end_time": "2022-12-23T14:53:01.656791",
     "exception": false,
     "start_time": "2022-12-23T14:53:01.617441",
     "status": "completed"
    },
    "tags": []
   },
   "source": [
    "Number of fraudulent transactions is 492"
   ]
  },
  {
   "cell_type": "code",
   "execution_count": 13,
   "id": "487e8606",
   "metadata": {
    "execution": {
     "iopub.execute_input": "2022-12-23T14:53:01.739004Z",
     "iopub.status.busy": "2022-12-23T14:53:01.738494Z",
     "iopub.status.idle": "2022-12-23T14:53:01.753665Z",
     "shell.execute_reply": "2022-12-23T14:53:01.752820Z"
    },
    "papermill": {
     "duration": 0.060177,
     "end_time": "2022-12-23T14:53:01.757046",
     "exception": false,
     "start_time": "2022-12-23T14:53:01.696869",
     "status": "completed"
    },
    "tags": []
   },
   "outputs": [],
   "source": [
    "legit_sample = legit.sample(n=492)"
   ]
  },
  {
   "cell_type": "markdown",
   "id": "04843e45",
   "metadata": {
    "papermill": {
     "duration": 0.048189,
     "end_time": "2022-12-23T14:53:01.858338",
     "exception": false,
     "start_time": "2022-12-23T14:53:01.810149",
     "status": "completed"
    },
    "tags": []
   },
   "source": [
    "**Concatenating two DataFrames**"
   ]
  },
  {
   "cell_type": "code",
   "execution_count": 14,
   "id": "c659c7ad",
   "metadata": {
    "execution": {
     "iopub.execute_input": "2022-12-23T14:53:01.940668Z",
     "iopub.status.busy": "2022-12-23T14:53:01.939777Z",
     "iopub.status.idle": "2022-12-23T14:53:01.965617Z",
     "shell.execute_reply": "2022-12-23T14:53:01.964737Z"
    },
    "papermill": {
     "duration": 0.069356,
     "end_time": "2022-12-23T14:53:01.967998",
     "exception": false,
     "start_time": "2022-12-23T14:53:01.898642",
     "status": "completed"
    },
    "tags": []
   },
   "outputs": [
    {
     "data": {
      "text/html": [
       "<div>\n",
       "<style scoped>\n",
       "    .dataframe tbody tr th:only-of-type {\n",
       "        vertical-align: middle;\n",
       "    }\n",
       "\n",
       "    .dataframe tbody tr th {\n",
       "        vertical-align: top;\n",
       "    }\n",
       "\n",
       "    .dataframe thead th {\n",
       "        text-align: right;\n",
       "    }\n",
       "</style>\n",
       "<table border=\"1\" class=\"dataframe\">\n",
       "  <thead>\n",
       "    <tr style=\"text-align: right;\">\n",
       "      <th></th>\n",
       "      <th>Time</th>\n",
       "      <th>V1</th>\n",
       "      <th>V2</th>\n",
       "      <th>V3</th>\n",
       "      <th>V4</th>\n",
       "      <th>V5</th>\n",
       "      <th>V6</th>\n",
       "      <th>V7</th>\n",
       "      <th>V8</th>\n",
       "      <th>V9</th>\n",
       "      <th>...</th>\n",
       "      <th>V21</th>\n",
       "      <th>V22</th>\n",
       "      <th>V23</th>\n",
       "      <th>V24</th>\n",
       "      <th>V25</th>\n",
       "      <th>V26</th>\n",
       "      <th>V27</th>\n",
       "      <th>V28</th>\n",
       "      <th>Amount</th>\n",
       "      <th>Class</th>\n",
       "    </tr>\n",
       "  </thead>\n",
       "  <tbody>\n",
       "    <tr>\n",
       "      <th>25524</th>\n",
       "      <td>33650.0</td>\n",
       "      <td>1.167612</td>\n",
       "      <td>-0.337664</td>\n",
       "      <td>-0.663059</td>\n",
       "      <td>0.445879</td>\n",
       "      <td>1.765445</td>\n",
       "      <td>4.081093</td>\n",
       "      <td>-0.853746</td>\n",
       "      <td>1.027795</td>\n",
       "      <td>0.742221</td>\n",
       "      <td>...</td>\n",
       "      <td>-0.150664</td>\n",
       "      <td>-0.305645</td>\n",
       "      <td>-0.158483</td>\n",
       "      <td>1.027577</td>\n",
       "      <td>0.836237</td>\n",
       "      <td>-0.274890</td>\n",
       "      <td>0.054003</td>\n",
       "      <td>0.023678</td>\n",
       "      <td>34.0</td>\n",
       "      <td>0</td>\n",
       "    </tr>\n",
       "    <tr>\n",
       "      <th>209917</th>\n",
       "      <td>137771.0</td>\n",
       "      <td>-0.025236</td>\n",
       "      <td>0.814305</td>\n",
       "      <td>-1.275627</td>\n",
       "      <td>-0.130007</td>\n",
       "      <td>0.208864</td>\n",
       "      <td>-0.721864</td>\n",
       "      <td>0.963851</td>\n",
       "      <td>0.184879</td>\n",
       "      <td>-0.568893</td>\n",
       "      <td>...</td>\n",
       "      <td>0.441530</td>\n",
       "      <td>1.059160</td>\n",
       "      <td>0.140806</td>\n",
       "      <td>-0.398336</td>\n",
       "      <td>-0.177826</td>\n",
       "      <td>-0.156297</td>\n",
       "      <td>-0.110994</td>\n",
       "      <td>-0.049280</td>\n",
       "      <td>134.9</td>\n",
       "      <td>0</td>\n",
       "    </tr>\n",
       "    <tr>\n",
       "      <th>183940</th>\n",
       "      <td>126028.0</td>\n",
       "      <td>-1.454398</td>\n",
       "      <td>0.958128</td>\n",
       "      <td>0.329807</td>\n",
       "      <td>-1.038875</td>\n",
       "      <td>-3.059818</td>\n",
       "      <td>0.804442</td>\n",
       "      <td>-0.046313</td>\n",
       "      <td>-5.371269</td>\n",
       "      <td>0.761356</td>\n",
       "      <td>...</td>\n",
       "      <td>4.480048</td>\n",
       "      <td>-1.263483</td>\n",
       "      <td>-1.680239</td>\n",
       "      <td>1.123374</td>\n",
       "      <td>0.301972</td>\n",
       "      <td>1.313629</td>\n",
       "      <td>0.839469</td>\n",
       "      <td>0.033173</td>\n",
       "      <td>600.0</td>\n",
       "      <td>0</td>\n",
       "    </tr>\n",
       "    <tr>\n",
       "      <th>28839</th>\n",
       "      <td>35188.0</td>\n",
       "      <td>1.087692</td>\n",
       "      <td>-0.969054</td>\n",
       "      <td>1.185915</td>\n",
       "      <td>-0.625850</td>\n",
       "      <td>-0.918850</td>\n",
       "      <td>1.368144</td>\n",
       "      <td>-1.359924</td>\n",
       "      <td>0.531887</td>\n",
       "      <td>-0.295252</td>\n",
       "      <td>...</td>\n",
       "      <td>0.344999</td>\n",
       "      <td>1.170637</td>\n",
       "      <td>0.115645</td>\n",
       "      <td>-0.581145</td>\n",
       "      <td>-0.003866</td>\n",
       "      <td>-0.085580</td>\n",
       "      <td>0.122425</td>\n",
       "      <td>0.023981</td>\n",
       "      <td>40.0</td>\n",
       "      <td>0</td>\n",
       "    </tr>\n",
       "    <tr>\n",
       "      <th>123328</th>\n",
       "      <td>76885.0</td>\n",
       "      <td>1.095464</td>\n",
       "      <td>-1.076112</td>\n",
       "      <td>-0.470942</td>\n",
       "      <td>-0.488406</td>\n",
       "      <td>-0.692377</td>\n",
       "      <td>-0.516805</td>\n",
       "      <td>0.005135</td>\n",
       "      <td>-0.285678</td>\n",
       "      <td>-0.747614</td>\n",
       "      <td>...</td>\n",
       "      <td>-0.389910</td>\n",
       "      <td>-0.950702</td>\n",
       "      <td>-0.275619</td>\n",
       "      <td>-0.388979</td>\n",
       "      <td>0.472001</td>\n",
       "      <td>1.123538</td>\n",
       "      <td>-0.106714</td>\n",
       "      <td>0.022606</td>\n",
       "      <td>198.0</td>\n",
       "      <td>0</td>\n",
       "    </tr>\n",
       "  </tbody>\n",
       "</table>\n",
       "<p>5 rows × 31 columns</p>\n",
       "</div>"
      ],
      "text/plain": [
       "            Time        V1        V2        V3        V4        V5        V6  \\\n",
       "25524    33650.0  1.167612 -0.337664 -0.663059  0.445879  1.765445  4.081093   \n",
       "209917  137771.0 -0.025236  0.814305 -1.275627 -0.130007  0.208864 -0.721864   \n",
       "183940  126028.0 -1.454398  0.958128  0.329807 -1.038875 -3.059818  0.804442   \n",
       "28839    35188.0  1.087692 -0.969054  1.185915 -0.625850 -0.918850  1.368144   \n",
       "123328   76885.0  1.095464 -1.076112 -0.470942 -0.488406 -0.692377 -0.516805   \n",
       "\n",
       "              V7        V8        V9  ...       V21       V22       V23  \\\n",
       "25524  -0.853746  1.027795  0.742221  ... -0.150664 -0.305645 -0.158483   \n",
       "209917  0.963851  0.184879 -0.568893  ...  0.441530  1.059160  0.140806   \n",
       "183940 -0.046313 -5.371269  0.761356  ...  4.480048 -1.263483 -1.680239   \n",
       "28839  -1.359924  0.531887 -0.295252  ...  0.344999  1.170637  0.115645   \n",
       "123328  0.005135 -0.285678 -0.747614  ... -0.389910 -0.950702 -0.275619   \n",
       "\n",
       "             V24       V25       V26       V27       V28  Amount  Class  \n",
       "25524   1.027577  0.836237 -0.274890  0.054003  0.023678    34.0      0  \n",
       "209917 -0.398336 -0.177826 -0.156297 -0.110994 -0.049280   134.9      0  \n",
       "183940  1.123374  0.301972  1.313629  0.839469  0.033173   600.0      0  \n",
       "28839  -0.581145 -0.003866 -0.085580  0.122425  0.023981    40.0      0  \n",
       "123328 -0.388979  0.472001  1.123538 -0.106714  0.022606   198.0      0  \n",
       "\n",
       "[5 rows x 31 columns]"
      ]
     },
     "execution_count": 14,
     "metadata": {},
     "output_type": "execute_result"
    }
   ],
   "source": [
    "new_ds = pd.concat([legit_sample,fraud],axis=0)\n",
    "new_ds.head()"
   ]
  },
  {
   "cell_type": "code",
   "execution_count": 15,
   "id": "96c6868c",
   "metadata": {
    "execution": {
     "iopub.execute_input": "2022-12-23T14:53:02.052026Z",
     "iopub.status.busy": "2022-12-23T14:53:02.051709Z",
     "iopub.status.idle": "2022-12-23T14:53:02.078479Z",
     "shell.execute_reply": "2022-12-23T14:53:02.077539Z"
    },
    "papermill": {
     "duration": 0.070933,
     "end_time": "2022-12-23T14:53:02.080734",
     "exception": false,
     "start_time": "2022-12-23T14:53:02.009801",
     "status": "completed"
    },
    "tags": []
   },
   "outputs": [
    {
     "data": {
      "text/html": [
       "<div>\n",
       "<style scoped>\n",
       "    .dataframe tbody tr th:only-of-type {\n",
       "        vertical-align: middle;\n",
       "    }\n",
       "\n",
       "    .dataframe tbody tr th {\n",
       "        vertical-align: top;\n",
       "    }\n",
       "\n",
       "    .dataframe thead th {\n",
       "        text-align: right;\n",
       "    }\n",
       "</style>\n",
       "<table border=\"1\" class=\"dataframe\">\n",
       "  <thead>\n",
       "    <tr style=\"text-align: right;\">\n",
       "      <th></th>\n",
       "      <th>Time</th>\n",
       "      <th>V1</th>\n",
       "      <th>V2</th>\n",
       "      <th>V3</th>\n",
       "      <th>V4</th>\n",
       "      <th>V5</th>\n",
       "      <th>V6</th>\n",
       "      <th>V7</th>\n",
       "      <th>V8</th>\n",
       "      <th>V9</th>\n",
       "      <th>...</th>\n",
       "      <th>V21</th>\n",
       "      <th>V22</th>\n",
       "      <th>V23</th>\n",
       "      <th>V24</th>\n",
       "      <th>V25</th>\n",
       "      <th>V26</th>\n",
       "      <th>V27</th>\n",
       "      <th>V28</th>\n",
       "      <th>Amount</th>\n",
       "      <th>Class</th>\n",
       "    </tr>\n",
       "  </thead>\n",
       "  <tbody>\n",
       "    <tr>\n",
       "      <th>279863</th>\n",
       "      <td>169142.0</td>\n",
       "      <td>-1.927883</td>\n",
       "      <td>1.125653</td>\n",
       "      <td>-4.518331</td>\n",
       "      <td>1.749293</td>\n",
       "      <td>-1.566487</td>\n",
       "      <td>-2.010494</td>\n",
       "      <td>-0.882850</td>\n",
       "      <td>0.697211</td>\n",
       "      <td>-2.064945</td>\n",
       "      <td>...</td>\n",
       "      <td>0.778584</td>\n",
       "      <td>-0.319189</td>\n",
       "      <td>0.639419</td>\n",
       "      <td>-0.294885</td>\n",
       "      <td>0.537503</td>\n",
       "      <td>0.788395</td>\n",
       "      <td>0.292680</td>\n",
       "      <td>0.147968</td>\n",
       "      <td>390.00</td>\n",
       "      <td>1</td>\n",
       "    </tr>\n",
       "    <tr>\n",
       "      <th>280143</th>\n",
       "      <td>169347.0</td>\n",
       "      <td>1.378559</td>\n",
       "      <td>1.289381</td>\n",
       "      <td>-5.004247</td>\n",
       "      <td>1.411850</td>\n",
       "      <td>0.442581</td>\n",
       "      <td>-1.326536</td>\n",
       "      <td>-1.413170</td>\n",
       "      <td>0.248525</td>\n",
       "      <td>-1.127396</td>\n",
       "      <td>...</td>\n",
       "      <td>0.370612</td>\n",
       "      <td>0.028234</td>\n",
       "      <td>-0.145640</td>\n",
       "      <td>-0.081049</td>\n",
       "      <td>0.521875</td>\n",
       "      <td>0.739467</td>\n",
       "      <td>0.389152</td>\n",
       "      <td>0.186637</td>\n",
       "      <td>0.76</td>\n",
       "      <td>1</td>\n",
       "    </tr>\n",
       "    <tr>\n",
       "      <th>280149</th>\n",
       "      <td>169351.0</td>\n",
       "      <td>-0.676143</td>\n",
       "      <td>1.126366</td>\n",
       "      <td>-2.213700</td>\n",
       "      <td>0.468308</td>\n",
       "      <td>-1.120541</td>\n",
       "      <td>-0.003346</td>\n",
       "      <td>-2.234739</td>\n",
       "      <td>1.210158</td>\n",
       "      <td>-0.652250</td>\n",
       "      <td>...</td>\n",
       "      <td>0.751826</td>\n",
       "      <td>0.834108</td>\n",
       "      <td>0.190944</td>\n",
       "      <td>0.032070</td>\n",
       "      <td>-0.739695</td>\n",
       "      <td>0.471111</td>\n",
       "      <td>0.385107</td>\n",
       "      <td>0.194361</td>\n",
       "      <td>77.89</td>\n",
       "      <td>1</td>\n",
       "    </tr>\n",
       "    <tr>\n",
       "      <th>281144</th>\n",
       "      <td>169966.0</td>\n",
       "      <td>-3.113832</td>\n",
       "      <td>0.585864</td>\n",
       "      <td>-5.399730</td>\n",
       "      <td>1.817092</td>\n",
       "      <td>-0.840618</td>\n",
       "      <td>-2.943548</td>\n",
       "      <td>-2.208002</td>\n",
       "      <td>1.058733</td>\n",
       "      <td>-1.632333</td>\n",
       "      <td>...</td>\n",
       "      <td>0.583276</td>\n",
       "      <td>-0.269209</td>\n",
       "      <td>-0.456108</td>\n",
       "      <td>-0.183659</td>\n",
       "      <td>-0.328168</td>\n",
       "      <td>0.606116</td>\n",
       "      <td>0.884876</td>\n",
       "      <td>-0.253700</td>\n",
       "      <td>245.00</td>\n",
       "      <td>1</td>\n",
       "    </tr>\n",
       "    <tr>\n",
       "      <th>281674</th>\n",
       "      <td>170348.0</td>\n",
       "      <td>1.991976</td>\n",
       "      <td>0.158476</td>\n",
       "      <td>-2.583441</td>\n",
       "      <td>0.408670</td>\n",
       "      <td>1.151147</td>\n",
       "      <td>-0.096695</td>\n",
       "      <td>0.223050</td>\n",
       "      <td>-0.068384</td>\n",
       "      <td>0.577829</td>\n",
       "      <td>...</td>\n",
       "      <td>-0.164350</td>\n",
       "      <td>-0.295135</td>\n",
       "      <td>-0.072173</td>\n",
       "      <td>-0.450261</td>\n",
       "      <td>0.313267</td>\n",
       "      <td>-0.289617</td>\n",
       "      <td>0.002988</td>\n",
       "      <td>-0.015309</td>\n",
       "      <td>42.53</td>\n",
       "      <td>1</td>\n",
       "    </tr>\n",
       "  </tbody>\n",
       "</table>\n",
       "<p>5 rows × 31 columns</p>\n",
       "</div>"
      ],
      "text/plain": [
       "            Time        V1        V2        V3        V4        V5        V6  \\\n",
       "279863  169142.0 -1.927883  1.125653 -4.518331  1.749293 -1.566487 -2.010494   \n",
       "280143  169347.0  1.378559  1.289381 -5.004247  1.411850  0.442581 -1.326536   \n",
       "280149  169351.0 -0.676143  1.126366 -2.213700  0.468308 -1.120541 -0.003346   \n",
       "281144  169966.0 -3.113832  0.585864 -5.399730  1.817092 -0.840618 -2.943548   \n",
       "281674  170348.0  1.991976  0.158476 -2.583441  0.408670  1.151147 -0.096695   \n",
       "\n",
       "              V7        V8        V9  ...       V21       V22       V23  \\\n",
       "279863 -0.882850  0.697211 -2.064945  ...  0.778584 -0.319189  0.639419   \n",
       "280143 -1.413170  0.248525 -1.127396  ...  0.370612  0.028234 -0.145640   \n",
       "280149 -2.234739  1.210158 -0.652250  ...  0.751826  0.834108  0.190944   \n",
       "281144 -2.208002  1.058733 -1.632333  ...  0.583276 -0.269209 -0.456108   \n",
       "281674  0.223050 -0.068384  0.577829  ... -0.164350 -0.295135 -0.072173   \n",
       "\n",
       "             V24       V25       V26       V27       V28  Amount  Class  \n",
       "279863 -0.294885  0.537503  0.788395  0.292680  0.147968  390.00      1  \n",
       "280143 -0.081049  0.521875  0.739467  0.389152  0.186637    0.76      1  \n",
       "280149  0.032070 -0.739695  0.471111  0.385107  0.194361   77.89      1  \n",
       "281144 -0.183659 -0.328168  0.606116  0.884876 -0.253700  245.00      1  \n",
       "281674 -0.450261  0.313267 -0.289617  0.002988 -0.015309   42.53      1  \n",
       "\n",
       "[5 rows x 31 columns]"
      ]
     },
     "execution_count": 15,
     "metadata": {},
     "output_type": "execute_result"
    }
   ],
   "source": [
    "new_ds.tail()"
   ]
  },
  {
   "cell_type": "code",
   "execution_count": 16,
   "id": "ef863ae1",
   "metadata": {
    "execution": {
     "iopub.execute_input": "2022-12-23T14:53:02.166885Z",
     "iopub.status.busy": "2022-12-23T14:53:02.166571Z",
     "iopub.status.idle": "2022-12-23T14:53:02.173713Z",
     "shell.execute_reply": "2022-12-23T14:53:02.173167Z"
    },
    "papermill": {
     "duration": 0.05261,
     "end_time": "2022-12-23T14:53:02.175980",
     "exception": false,
     "start_time": "2022-12-23T14:53:02.123370",
     "status": "completed"
    },
    "tags": []
   },
   "outputs": [
    {
     "data": {
      "text/plain": [
       "0    492\n",
       "1    492\n",
       "Name: Class, dtype: int64"
      ]
     },
     "execution_count": 16,
     "metadata": {},
     "output_type": "execute_result"
    }
   ],
   "source": [
    "new_ds['Class'].value_counts()"
   ]
  },
  {
   "cell_type": "code",
   "execution_count": 17,
   "id": "22b05657",
   "metadata": {
    "execution": {
     "iopub.execute_input": "2022-12-23T14:53:02.261823Z",
     "iopub.status.busy": "2022-12-23T14:53:02.261183Z",
     "iopub.status.idle": "2022-12-23T14:53:02.285834Z",
     "shell.execute_reply": "2022-12-23T14:53:02.285195Z"
    },
    "papermill": {
     "duration": 0.069851,
     "end_time": "2022-12-23T14:53:02.287752",
     "exception": false,
     "start_time": "2022-12-23T14:53:02.217901",
     "status": "completed"
    },
    "tags": []
   },
   "outputs": [
    {
     "data": {
      "text/html": [
       "<div>\n",
       "<style scoped>\n",
       "    .dataframe tbody tr th:only-of-type {\n",
       "        vertical-align: middle;\n",
       "    }\n",
       "\n",
       "    .dataframe tbody tr th {\n",
       "        vertical-align: top;\n",
       "    }\n",
       "\n",
       "    .dataframe thead th {\n",
       "        text-align: right;\n",
       "    }\n",
       "</style>\n",
       "<table border=\"1\" class=\"dataframe\">\n",
       "  <thead>\n",
       "    <tr style=\"text-align: right;\">\n",
       "      <th></th>\n",
       "      <th>Time</th>\n",
       "      <th>V1</th>\n",
       "      <th>V2</th>\n",
       "      <th>V3</th>\n",
       "      <th>V4</th>\n",
       "      <th>V5</th>\n",
       "      <th>V6</th>\n",
       "      <th>V7</th>\n",
       "      <th>V8</th>\n",
       "      <th>V9</th>\n",
       "      <th>...</th>\n",
       "      <th>V20</th>\n",
       "      <th>V21</th>\n",
       "      <th>V22</th>\n",
       "      <th>V23</th>\n",
       "      <th>V24</th>\n",
       "      <th>V25</th>\n",
       "      <th>V26</th>\n",
       "      <th>V27</th>\n",
       "      <th>V28</th>\n",
       "      <th>Amount</th>\n",
       "    </tr>\n",
       "    <tr>\n",
       "      <th>Class</th>\n",
       "      <th></th>\n",
       "      <th></th>\n",
       "      <th></th>\n",
       "      <th></th>\n",
       "      <th></th>\n",
       "      <th></th>\n",
       "      <th></th>\n",
       "      <th></th>\n",
       "      <th></th>\n",
       "      <th></th>\n",
       "      <th></th>\n",
       "      <th></th>\n",
       "      <th></th>\n",
       "      <th></th>\n",
       "      <th></th>\n",
       "      <th></th>\n",
       "      <th></th>\n",
       "      <th></th>\n",
       "      <th></th>\n",
       "      <th></th>\n",
       "      <th></th>\n",
       "    </tr>\n",
       "  </thead>\n",
       "  <tbody>\n",
       "    <tr>\n",
       "      <th>0</th>\n",
       "      <td>93415.802846</td>\n",
       "      <td>0.078230</td>\n",
       "      <td>0.089206</td>\n",
       "      <td>-0.027727</td>\n",
       "      <td>0.015132</td>\n",
       "      <td>0.017112</td>\n",
       "      <td>0.068930</td>\n",
       "      <td>0.052239</td>\n",
       "      <td>0.041618</td>\n",
       "      <td>0.028616</td>\n",
       "      <td>...</td>\n",
       "      <td>0.014928</td>\n",
       "      <td>0.010358</td>\n",
       "      <td>-0.011785</td>\n",
       "      <td>0.020611</td>\n",
       "      <td>0.007465</td>\n",
       "      <td>-0.029222</td>\n",
       "      <td>-0.018673</td>\n",
       "      <td>-0.012556</td>\n",
       "      <td>-0.002373</td>\n",
       "      <td>90.083943</td>\n",
       "    </tr>\n",
       "    <tr>\n",
       "      <th>1</th>\n",
       "      <td>80746.806911</td>\n",
       "      <td>-4.771948</td>\n",
       "      <td>3.623778</td>\n",
       "      <td>-7.033281</td>\n",
       "      <td>4.542029</td>\n",
       "      <td>-3.151225</td>\n",
       "      <td>-1.397737</td>\n",
       "      <td>-5.568731</td>\n",
       "      <td>0.570636</td>\n",
       "      <td>-2.581123</td>\n",
       "      <td>...</td>\n",
       "      <td>0.372319</td>\n",
       "      <td>0.713588</td>\n",
       "      <td>0.014049</td>\n",
       "      <td>-0.040308</td>\n",
       "      <td>-0.105130</td>\n",
       "      <td>0.041449</td>\n",
       "      <td>0.051648</td>\n",
       "      <td>0.170575</td>\n",
       "      <td>0.075667</td>\n",
       "      <td>122.211321</td>\n",
       "    </tr>\n",
       "  </tbody>\n",
       "</table>\n",
       "<p>2 rows × 30 columns</p>\n",
       "</div>"
      ],
      "text/plain": [
       "               Time        V1        V2        V3        V4        V5  \\\n",
       "Class                                                                   \n",
       "0      93415.802846  0.078230  0.089206 -0.027727  0.015132  0.017112   \n",
       "1      80746.806911 -4.771948  3.623778 -7.033281  4.542029 -3.151225   \n",
       "\n",
       "             V6        V7        V8        V9  ...       V20       V21  \\\n",
       "Class                                          ...                       \n",
       "0      0.068930  0.052239  0.041618  0.028616  ...  0.014928  0.010358   \n",
       "1     -1.397737 -5.568731  0.570636 -2.581123  ...  0.372319  0.713588   \n",
       "\n",
       "            V22       V23       V24       V25       V26       V27       V28  \\\n",
       "Class                                                                         \n",
       "0     -0.011785  0.020611  0.007465 -0.029222 -0.018673 -0.012556 -0.002373   \n",
       "1      0.014049 -0.040308 -0.105130  0.041449  0.051648  0.170575  0.075667   \n",
       "\n",
       "           Amount  \n",
       "Class              \n",
       "0       90.083943  \n",
       "1      122.211321  \n",
       "\n",
       "[2 rows x 30 columns]"
      ]
     },
     "execution_count": 17,
     "metadata": {},
     "output_type": "execute_result"
    }
   ],
   "source": [
    "new_ds.groupby('Class').mean()"
   ]
  },
  {
   "cell_type": "markdown",
   "id": "442b296b",
   "metadata": {
    "papermill": {
     "duration": 0.042447,
     "end_time": "2022-12-23T14:53:02.374856",
     "exception": false,
     "start_time": "2022-12-23T14:53:02.332409",
     "status": "completed"
    },
    "tags": []
   },
   "source": [
    "**Splitting the data into Features and Targets**"
   ]
  },
  {
   "cell_type": "code",
   "execution_count": 18,
   "id": "8b8f7033",
   "metadata": {
    "execution": {
     "iopub.execute_input": "2022-12-23T14:53:02.460371Z",
     "iopub.status.busy": "2022-12-23T14:53:02.460013Z",
     "iopub.status.idle": "2022-12-23T14:53:02.465566Z",
     "shell.execute_reply": "2022-12-23T14:53:02.464815Z"
    },
    "papermill": {
     "duration": 0.051474,
     "end_time": "2022-12-23T14:53:02.467916",
     "exception": false,
     "start_time": "2022-12-23T14:53:02.416442",
     "status": "completed"
    },
    "tags": []
   },
   "outputs": [],
   "source": [
    "X = new_ds.drop(columns = 'Class',axis = 1)\n",
    "Y = new_ds['Class']"
   ]
  },
  {
   "cell_type": "code",
   "execution_count": 19,
   "id": "d0e3dc66",
   "metadata": {
    "execution": {
     "iopub.execute_input": "2022-12-23T14:53:02.557717Z",
     "iopub.status.busy": "2022-12-23T14:53:02.557398Z",
     "iopub.status.idle": "2022-12-23T14:53:02.575080Z",
     "shell.execute_reply": "2022-12-23T14:53:02.573825Z"
    },
    "papermill": {
     "duration": 0.067945,
     "end_time": "2022-12-23T14:53:02.578324",
     "exception": false,
     "start_time": "2022-12-23T14:53:02.510379",
     "status": "completed"
    },
    "tags": []
   },
   "outputs": [
    {
     "name": "stdout",
     "output_type": "stream",
     "text": [
      "            Time        V1        V2        V3        V4        V5        V6  \\\n",
      "25524    33650.0  1.167612 -0.337664 -0.663059  0.445879  1.765445  4.081093   \n",
      "209917  137771.0 -0.025236  0.814305 -1.275627 -0.130007  0.208864 -0.721864   \n",
      "183940  126028.0 -1.454398  0.958128  0.329807 -1.038875 -3.059818  0.804442   \n",
      "28839    35188.0  1.087692 -0.969054  1.185915 -0.625850 -0.918850  1.368144   \n",
      "123328   76885.0  1.095464 -1.076112 -0.470942 -0.488406 -0.692377 -0.516805   \n",
      "...          ...       ...       ...       ...       ...       ...       ...   \n",
      "279863  169142.0 -1.927883  1.125653 -4.518331  1.749293 -1.566487 -2.010494   \n",
      "280143  169347.0  1.378559  1.289381 -5.004247  1.411850  0.442581 -1.326536   \n",
      "280149  169351.0 -0.676143  1.126366 -2.213700  0.468308 -1.120541 -0.003346   \n",
      "281144  169966.0 -3.113832  0.585864 -5.399730  1.817092 -0.840618 -2.943548   \n",
      "281674  170348.0  1.991976  0.158476 -2.583441  0.408670  1.151147 -0.096695   \n",
      "\n",
      "              V7        V8        V9  ...       V20       V21       V22  \\\n",
      "25524  -0.853746  1.027795  0.742221  ...  0.007265 -0.150664 -0.305645   \n",
      "209917  0.963851  0.184879 -0.568893  ...  0.103264  0.441530  1.059160   \n",
      "183940 -0.046313 -5.371269  0.761356  ... -1.818275  4.480048 -1.263483   \n",
      "28839  -1.359924  0.531887 -0.295252  ...  0.044443  0.344999  1.170637   \n",
      "123328  0.005135 -0.285678 -0.747614  ... -0.090643 -0.389910 -0.950702   \n",
      "...          ...       ...       ...  ...       ...       ...       ...   \n",
      "279863 -0.882850  0.697211 -2.064945  ...  1.252967  0.778584 -0.319189   \n",
      "280143 -1.413170  0.248525 -1.127396  ...  0.226138  0.370612  0.028234   \n",
      "280149 -2.234739  1.210158 -0.652250  ...  0.247968  0.751826  0.834108   \n",
      "281144 -2.208002  1.058733 -1.632333  ...  0.306271  0.583276 -0.269209   \n",
      "281674  0.223050 -0.068384  0.577829  ... -0.017652 -0.164350 -0.295135   \n",
      "\n",
      "             V23       V24       V25       V26       V27       V28  Amount  \n",
      "25524  -0.158483  1.027577  0.836237 -0.274890  0.054003  0.023678   34.00  \n",
      "209917  0.140806 -0.398336 -0.177826 -0.156297 -0.110994 -0.049280  134.90  \n",
      "183940 -1.680239  1.123374  0.301972  1.313629  0.839469  0.033173  600.00  \n",
      "28839   0.115645 -0.581145 -0.003866 -0.085580  0.122425  0.023981   40.00  \n",
      "123328 -0.275619 -0.388979  0.472001  1.123538 -0.106714  0.022606  198.00  \n",
      "...          ...       ...       ...       ...       ...       ...     ...  \n",
      "279863  0.639419 -0.294885  0.537503  0.788395  0.292680  0.147968  390.00  \n",
      "280143 -0.145640 -0.081049  0.521875  0.739467  0.389152  0.186637    0.76  \n",
      "280149  0.190944  0.032070 -0.739695  0.471111  0.385107  0.194361   77.89  \n",
      "281144 -0.456108 -0.183659 -0.328168  0.606116  0.884876 -0.253700  245.00  \n",
      "281674 -0.072173 -0.450261  0.313267 -0.289617  0.002988 -0.015309   42.53  \n",
      "\n",
      "[984 rows x 30 columns]\n"
     ]
    }
   ],
   "source": [
    "print(X)\n"
   ]
  },
  {
   "cell_type": "code",
   "execution_count": 20,
   "id": "893120ec",
   "metadata": {
    "execution": {
     "iopub.execute_input": "2022-12-23T14:53:02.668321Z",
     "iopub.status.busy": "2022-12-23T14:53:02.667681Z",
     "iopub.status.idle": "2022-12-23T14:53:02.674164Z",
     "shell.execute_reply": "2022-12-23T14:53:02.673109Z"
    },
    "papermill": {
     "duration": 0.054435,
     "end_time": "2022-12-23T14:53:02.676840",
     "exception": false,
     "start_time": "2022-12-23T14:53:02.622405",
     "status": "completed"
    },
    "tags": []
   },
   "outputs": [
    {
     "name": "stdout",
     "output_type": "stream",
     "text": [
      "25524     0\n",
      "209917    0\n",
      "183940    0\n",
      "28839     0\n",
      "123328    0\n",
      "         ..\n",
      "279863    1\n",
      "280143    1\n",
      "280149    1\n",
      "281144    1\n",
      "281674    1\n",
      "Name: Class, Length: 984, dtype: int64\n"
     ]
    }
   ],
   "source": [
    "print(Y)"
   ]
  },
  {
   "cell_type": "markdown",
   "id": "19a64836",
   "metadata": {
    "papermill": {
     "duration": 0.043789,
     "end_time": "2022-12-23T14:53:02.763997",
     "exception": false,
     "start_time": "2022-12-23T14:53:02.720208",
     "status": "completed"
    },
    "tags": []
   },
   "source": [
    "**Splitting the data into Training data and Testing data**"
   ]
  },
  {
   "cell_type": "markdown",
   "id": "2f46acd6",
   "metadata": {
    "papermill": {
     "duration": 0.043347,
     "end_time": "2022-12-23T14:53:02.850626",
     "exception": false,
     "start_time": "2022-12-23T14:53:02.807279",
     "status": "completed"
    },
    "tags": []
   },
   "source": []
  },
  {
   "cell_type": "code",
   "execution_count": 21,
   "id": "158ef333",
   "metadata": {
    "execution": {
     "iopub.execute_input": "2022-12-23T14:53:02.939848Z",
     "iopub.status.busy": "2022-12-23T14:53:02.939575Z",
     "iopub.status.idle": "2022-12-23T14:53:02.948597Z",
     "shell.execute_reply": "2022-12-23T14:53:02.947616Z"
    },
    "papermill": {
     "duration": 0.05677,
     "end_time": "2022-12-23T14:53:02.950960",
     "exception": false,
     "start_time": "2022-12-23T14:53:02.894190",
     "status": "completed"
    },
    "tags": []
   },
   "outputs": [],
   "source": [
    "X_train, X_test, Y_train, Y_test = train_test_split(X,Y,test_size = 0.2, stratify = Y,random_state = 2)"
   ]
  },
  {
   "cell_type": "code",
   "execution_count": 22,
   "id": "a4aa9930",
   "metadata": {
    "execution": {
     "iopub.execute_input": "2022-12-23T14:53:03.039797Z",
     "iopub.status.busy": "2022-12-23T14:53:03.039493Z",
     "iopub.status.idle": "2022-12-23T14:53:03.045119Z",
     "shell.execute_reply": "2022-12-23T14:53:03.044186Z"
    },
    "papermill": {
     "duration": 0.052977,
     "end_time": "2022-12-23T14:53:03.047231",
     "exception": false,
     "start_time": "2022-12-23T14:53:02.994254",
     "status": "completed"
    },
    "tags": []
   },
   "outputs": [
    {
     "name": "stdout",
     "output_type": "stream",
     "text": [
      "(984, 30) (787, 30) (197, 30)\n"
     ]
    }
   ],
   "source": [
    "print(X.shape,X_train.shape,X_test.shape)"
   ]
  },
  {
   "cell_type": "markdown",
   "id": "c46dd616",
   "metadata": {
    "papermill": {
     "duration": 0.044046,
     "end_time": "2022-12-23T14:53:03.134701",
     "exception": false,
     "start_time": "2022-12-23T14:53:03.090655",
     "status": "completed"
    },
    "tags": []
   },
   "source": [
    "**MODEL TRAINING**"
   ]
  },
  {
   "cell_type": "markdown",
   "id": "74ba0839",
   "metadata": {
    "papermill": {
     "duration": 0.04424,
     "end_time": "2022-12-23T14:53:03.222184",
     "exception": false,
     "start_time": "2022-12-23T14:53:03.177944",
     "status": "completed"
    },
    "tags": []
   },
   "source": [
    "Logistic regression"
   ]
  },
  {
   "cell_type": "code",
   "execution_count": 23,
   "id": "4980b24b",
   "metadata": {
    "execution": {
     "iopub.execute_input": "2022-12-23T14:53:03.312073Z",
     "iopub.status.busy": "2022-12-23T14:53:03.310978Z",
     "iopub.status.idle": "2022-12-23T14:53:03.315799Z",
     "shell.execute_reply": "2022-12-23T14:53:03.314796Z"
    },
    "papermill": {
     "duration": 0.05263,
     "end_time": "2022-12-23T14:53:03.318039",
     "exception": false,
     "start_time": "2022-12-23T14:53:03.265409",
     "status": "completed"
    },
    "tags": []
   },
   "outputs": [],
   "source": [
    "model = LogisticRegression()"
   ]
  },
  {
   "cell_type": "code",
   "execution_count": 24,
   "id": "9b413abe",
   "metadata": {
    "execution": {
     "iopub.execute_input": "2022-12-23T14:53:03.408530Z",
     "iopub.status.busy": "2022-12-23T14:53:03.408196Z",
     "iopub.status.idle": "2022-12-23T14:53:03.504657Z",
     "shell.execute_reply": "2022-12-23T14:53:03.503368Z"
    },
    "papermill": {
     "duration": 0.14864,
     "end_time": "2022-12-23T14:53:03.512230",
     "exception": false,
     "start_time": "2022-12-23T14:53:03.363590",
     "status": "completed"
    },
    "tags": []
   },
   "outputs": [
    {
     "name": "stderr",
     "output_type": "stream",
     "text": [
      "/opt/conda/lib/python3.7/site-packages/sklearn/linear_model/_logistic.py:818: ConvergenceWarning: lbfgs failed to converge (status=1):\n",
      "STOP: TOTAL NO. of ITERATIONS REACHED LIMIT.\n",
      "\n",
      "Increase the number of iterations (max_iter) or scale the data as shown in:\n",
      "    https://scikit-learn.org/stable/modules/preprocessing.html\n",
      "Please also refer to the documentation for alternative solver options:\n",
      "    https://scikit-learn.org/stable/modules/linear_model.html#logistic-regression\n",
      "  extra_warning_msg=_LOGISTIC_SOLVER_CONVERGENCE_MSG,\n"
     ]
    },
    {
     "data": {
      "text/plain": [
       "LogisticRegression()"
      ]
     },
     "execution_count": 24,
     "metadata": {},
     "output_type": "execute_result"
    }
   ],
   "source": [
    "#training regression model with training data\n",
    "model.fit(X_train,Y_train)"
   ]
  },
  {
   "cell_type": "markdown",
   "id": "3215c527",
   "metadata": {
    "papermill": {
     "duration": 0.043413,
     "end_time": "2022-12-23T14:53:03.661465",
     "exception": false,
     "start_time": "2022-12-23T14:53:03.618052",
     "status": "completed"
    },
    "tags": []
   },
   "source": [
    "**Model Evaluation**"
   ]
  },
  {
   "cell_type": "markdown",
   "id": "ed7d33af",
   "metadata": {
    "papermill": {
     "duration": 0.043919,
     "end_time": "2022-12-23T14:53:03.749424",
     "exception": false,
     "start_time": "2022-12-23T14:53:03.705505",
     "status": "completed"
    },
    "tags": []
   },
   "source": [
    "Accuracy score"
   ]
  },
  {
   "cell_type": "code",
   "execution_count": 25,
   "id": "7422ddc1",
   "metadata": {
    "execution": {
     "iopub.execute_input": "2022-12-23T14:53:03.838983Z",
     "iopub.status.busy": "2022-12-23T14:53:03.838682Z",
     "iopub.status.idle": "2022-12-23T14:53:03.847026Z",
     "shell.execute_reply": "2022-12-23T14:53:03.845910Z"
    },
    "papermill": {
     "duration": 0.057087,
     "end_time": "2022-12-23T14:53:03.850559",
     "exception": false,
     "start_time": "2022-12-23T14:53:03.793472",
     "status": "completed"
    },
    "tags": []
   },
   "outputs": [],
   "source": [
    "#accuracy on taining data\n",
    "X_train_prediction = model.predict(X_train)\n",
    "training_data_accuracy = accuracy_score(X_train_prediction,Y_train)"
   ]
  },
  {
   "cell_type": "code",
   "execution_count": 26,
   "id": "25b262b8",
   "metadata": {
    "execution": {
     "iopub.execute_input": "2022-12-23T14:53:04.007421Z",
     "iopub.status.busy": "2022-12-23T14:53:04.007108Z",
     "iopub.status.idle": "2022-12-23T14:53:04.011688Z",
     "shell.execute_reply": "2022-12-23T14:53:04.010986Z"
    },
    "papermill": {
     "duration": 0.054213,
     "end_time": "2022-12-23T14:53:04.014762",
     "exception": false,
     "start_time": "2022-12-23T14:53:03.960549",
     "status": "completed"
    },
    "tags": []
   },
   "outputs": [
    {
     "name": "stdout",
     "output_type": "stream",
     "text": [
      "Accuracy on Training data:  0.951715374841169\n"
     ]
    }
   ],
   "source": [
    "print('Accuracy on Training data: ',training_data_accuracy)"
   ]
  },
  {
   "cell_type": "code",
   "execution_count": 27,
   "id": "655fd98c",
   "metadata": {
    "execution": {
     "iopub.execute_input": "2022-12-23T14:53:04.105901Z",
     "iopub.status.busy": "2022-12-23T14:53:04.105556Z",
     "iopub.status.idle": "2022-12-23T14:53:04.113471Z",
     "shell.execute_reply": "2022-12-23T14:53:04.112494Z"
    },
    "papermill": {
     "duration": 0.055225,
     "end_time": "2022-12-23T14:53:04.115754",
     "exception": false,
     "start_time": "2022-12-23T14:53:04.060529",
     "status": "completed"
    },
    "tags": []
   },
   "outputs": [],
   "source": [
    "#accuracy on test data\n",
    "X_test_prediction = model.predict(X_test)\n",
    "test_data_accuracy = accuracy_score(X_test_prediction,Y_test)"
   ]
  },
  {
   "cell_type": "code",
   "execution_count": 28,
   "id": "26879103",
   "metadata": {
    "execution": {
     "iopub.execute_input": "2022-12-23T14:53:04.207751Z",
     "iopub.status.busy": "2022-12-23T14:53:04.207382Z",
     "iopub.status.idle": "2022-12-23T14:53:04.212476Z",
     "shell.execute_reply": "2022-12-23T14:53:04.211558Z"
    },
    "papermill": {
     "duration": 0.053869,
     "end_time": "2022-12-23T14:53:04.214748",
     "exception": false,
     "start_time": "2022-12-23T14:53:04.160879",
     "status": "completed"
    },
    "tags": []
   },
   "outputs": [
    {
     "name": "stdout",
     "output_type": "stream",
     "text": [
      "Accuracy on Test data:  0.9543147208121827\n"
     ]
    }
   ],
   "source": [
    "    print('Accuracy on Test data: ',test_data_accuracy)"
   ]
  },
  {
   "cell_type": "code",
   "execution_count": 29,
   "id": "0b717bc3",
   "metadata": {
    "execution": {
     "iopub.execute_input": "2022-12-23T14:53:04.306277Z",
     "iopub.status.busy": "2022-12-23T14:53:04.305032Z",
     "iopub.status.idle": "2022-12-23T14:53:04.311337Z",
     "shell.execute_reply": "2022-12-23T14:53:04.310212Z"
    },
    "papermill": {
     "duration": 0.054916,
     "end_time": "2022-12-23T14:53:04.314109",
     "exception": false,
     "start_time": "2022-12-23T14:53:04.259193",
     "status": "completed"
    },
    "tags": []
   },
   "outputs": [
    {
     "name": "stdout",
     "output_type": "stream",
     "text": [
      "[1 0 0 0 1 0 1 1 1 1 0 1 1 0 0 1 0 1 0 0 0 0 0 1 0 1 1 0 1 1 1 1 0 1 1 0 0\n",
      " 1 0 1 1 0 0 1 1 1 1 1 0 0 0 0 0 0 0 0 0 1 0 0 1 1 1 1 1 0 1 0 0 1 0 0 0 0\n",
      " 1 1 0 1 1 1 0 1 1 1 0 0 0 0 0 1 0 1 1 1 1 1 1 1 0 1 1 1 1 0 1 0 0 0 0 0 0\n",
      " 0 0 0 1 1 1 0 0 0 0 0 1 0 1 0 0 1 0 1 1 0 0 1 0 1 0 1 0 1 0 0 1 1 0 0 1 0\n",
      " 1 0 0 1 1 1 0 0 1 1 0 0 0 1 0 1 1 0 0 1 0 1 1 0 1 1 0 1 0 0 0 0 0 1 0 0 1\n",
      " 0 0 0 0 0 1 1 0 1 1 1 0]\n"
     ]
    }
   ],
   "source": [
    "print(X_test_prediction)"
   ]
  }
 ],
 "metadata": {
  "kernelspec": {
   "display_name": "Python 3",
   "language": "python",
   "name": "python3"
  },
  "language_info": {
   "codemirror_mode": {
    "name": "ipython",
    "version": 3
   },
   "file_extension": ".py",
   "mimetype": "text/x-python",
   "name": "python",
   "nbconvert_exporter": "python",
   "pygments_lexer": "ipython3",
   "version": "3.7.12"
  },
  "papermill": {
   "default_parameters": {},
   "duration": 22.067502,
   "end_time": "2022-12-23T14:53:05.081833",
   "environment_variables": {},
   "exception": null,
   "input_path": "__notebook__.ipynb",
   "output_path": "__notebook__.ipynb",
   "parameters": {},
   "start_time": "2022-12-23T14:52:43.014331",
   "version": "2.3.4"
  }
 },
 "nbformat": 4,
 "nbformat_minor": 5
}
